{
 "cells": [
  {
   "cell_type": "code",
   "execution_count": 1,
   "id": "869af4fc-31cd-4c6e-9d05-8189e095f27f",
   "metadata": {},
   "outputs": [
    {
     "name": "stderr",
     "output_type": "stream",
     "text": [
      "/home/lukoshkin/Workspace/interview/LLM/TradingView/.venv/lib/python3.12/site-packages/google/protobuf/runtime_version.py:98: UserWarning: Protobuf gencode version 5.27.2 is exactly one major version older than the runtime version 6.31.1 at schema.proto. Please update the gencode to avoid compatibility violations in the next runtime release.\n",
      "  warnings.warn(\n",
      "/home/lukoshkin/Workspace/interview/LLM/TradingView/.venv/lib/python3.12/site-packages/google/protobuf/runtime_version.py:98: UserWarning: Protobuf gencode version 5.27.2 is exactly one major version older than the runtime version 6.31.1 at common.proto. Please update the gencode to avoid compatibility violations in the next runtime release.\n",
      "  warnings.warn(\n",
      "/home/lukoshkin/Workspace/interview/LLM/TradingView/.venv/lib/python3.12/site-packages/google/protobuf/runtime_version.py:98: UserWarning: Protobuf gencode version 5.27.2 is exactly one major version older than the runtime version 6.31.1 at milvus.proto. Please update the gencode to avoid compatibility violations in the next runtime release.\n",
      "  warnings.warn(\n",
      "/home/lukoshkin/Workspace/interview/LLM/TradingView/.venv/lib/python3.12/site-packages/google/protobuf/runtime_version.py:98: UserWarning: Protobuf gencode version 5.27.2 is exactly one major version older than the runtime version 6.31.1 at rg.proto. Please update the gencode to avoid compatibility violations in the next runtime release.\n",
      "  warnings.warn(\n",
      "/home/lukoshkin/Workspace/interview/LLM/TradingView/.venv/lib/python3.12/site-packages/google/protobuf/runtime_version.py:98: UserWarning: Protobuf gencode version 5.27.2 is exactly one major version older than the runtime version 6.31.1 at feder.proto. Please update the gencode to avoid compatibility violations in the next runtime release.\n",
      "  warnings.warn(\n",
      "/home/lukoshkin/Workspace/interview/LLM/TradingView/.venv/lib/python3.12/site-packages/google/protobuf/runtime_version.py:98: UserWarning: Protobuf gencode version 5.27.2 is exactly one major version older than the runtime version 6.31.1 at msg.proto. Please update the gencode to avoid compatibility violations in the next runtime release.\n",
      "  warnings.warn(\n"
     ]
    }
   ],
   "source": [
    "from src.main import build_rag\n",
    "from IPython.display import display, HTML"
   ]
  },
  {
   "cell_type": "markdown",
   "id": "9d6f08f1-194a-4226-a5eb-1e4e887b57a7",
   "metadata": {},
   "source": [
    "# Анализ требований\n",
    "\n",
    "1. Можно сфокусироваться исключительно на английском языке  \n",
    "   (не было учтено -- из-за чего многие другие моменты не удалось реализовать)\n",
    "3. Нет необходимости хранить историю, если это не чат-агент\n",
    "4. Для платёжных вопросов прописываем инструкцию на \"прояснённые ответы\", используем planning/reasoning/agent для walkthrough over the suggested instructions; считаем метрики отдельно для данной категории запросов, анализируем данные на типы запросов: для многоходовых и абстрактных запросов меняем обычный RAG на Multi-Hop RAG/Graph-RAG"
   ]
  },
  {
   "cell_type": "code",
   "execution_count": 2,
   "id": "aa5ee78e-2074-4f45-bbed-e8f318f32e75",
   "metadata": {},
   "outputs": [
    {
     "name": "stderr",
     "output_type": "stream",
     "text": [
      "\u001b[32m2025-07-02 20:27:54.211\u001b[0m | \u001b[34m\u001b[1mDEBUG   \u001b[0m | \u001b[36msrc.main\u001b[0m:\u001b[36mload_config\u001b[0m:\u001b[36m48\u001b[0m - \u001b[34m\u001b[1mLoaded configuration: input_data='data/knowledge_base.csv' llm=LLMConfig(model='gpt-4.1-2025-04-14', temperature=0.3, max_tokens=2048) database=DatabaseConfig(uri='http://localhost:19530', token=None, collection='tradingview_knowledge_base', lang_length=5, text_size=1024, vector_dim=768) retrieval=RetrievalConfig(ranker='weighted', weights=[0.05, 0.95], top_k=5, nprobe=10, rrf_k=60) preprocessing=PreprocessingConfig(text_chunk_size=512, text_chunk_overlap=0, data_dir='data', processed_data='processed_knowledge_base.csv', html_dir='html_content', save_html_txt=True)\u001b[0m\n",
      "\u001b[32m2025-07-02 20:27:54.227\u001b[0m | \u001b[1mINFO    \u001b[0m | \u001b[36msrc.db\u001b[0m:\u001b[36mcreate_collection\u001b[0m:\u001b[36m71\u001b[0m - \u001b[1mCollection 'tradingview_knowledge_base' already exists.\u001b[0m\n"
     ]
    }
   ],
   "source": [
    "rag = build_rag()"
   ]
  },
  {
   "cell_type": "code",
   "execution_count": 3,
   "id": "518eeea7-d5df-47a6-bca0-e15eab6975a7",
   "metadata": {},
   "outputs": [
    {
     "name": "stderr",
     "output_type": "stream",
     "text": [
      "\u001b[32m2025-07-02 20:28:05.243\u001b[0m | \u001b[34m\u001b[1mDEBUG   \u001b[0m | \u001b[36msrc.retriever\u001b[0m:\u001b[36m_retrieve\u001b[0m:\u001b[36m96\u001b[0m - \u001b[34m\u001b[1m{'id': 706836, 'distance': 0.8822383880615234, 'entity': {'categoryId': 359303, 'folderId': 581130, 'chunk_id': 7, 'title': 'Economic calendar: features overview', 'id': 706836}}\u001b[0m\n",
      "\u001b[32m2025-07-02 20:28:05.246\u001b[0m | \u001b[34m\u001b[1mDEBUG   \u001b[0m | \u001b[36msrc.retriever\u001b[0m:\u001b[36m_retrieve\u001b[0m:\u001b[36m96\u001b[0m - \u001b[34m\u001b[1m{'id': 758122, 'distance': 0.6951692700386047, 'entity': {'categoryId': 374902, 'folderId': 598470, 'chunk_id': 0, 'title': 'Why are some dates in the calendar disabled?', 'id': 758122}}\u001b[0m\n",
      "\u001b[32m2025-07-02 20:28:05.248\u001b[0m | \u001b[34m\u001b[1mDEBUG   \u001b[0m | \u001b[36msrc.retriever\u001b[0m:\u001b[36m_retrieve\u001b[0m:\u001b[36m96\u001b[0m - \u001b[34m\u001b[1m{'id': 727969, 'distance': 0.6890134215354919, 'entity': {'categoryId': 366059, 'folderId': 594677, 'chunk_id': 6, 'title': 'Inflation protection', 'id': 727969}}\u001b[0m\n",
      "\u001b[32m2025-07-02 20:28:05.251\u001b[0m | \u001b[34m\u001b[1mDEBUG   \u001b[0m | \u001b[36msrc.retriever\u001b[0m:\u001b[36m_retrieve\u001b[0m:\u001b[36m96\u001b[0m - \u001b[34m\u001b[1m{'id': 745807, 'distance': 0.6721919178962708, 'entity': {'categoryId': 372003, 'folderId': 547458, 'chunk_id': 9, 'title': 'Why do session-based indicators occasionally extend daily sessions on US futures?', 'id': 745807}}\u001b[0m\n",
      "\u001b[32m2025-07-02 20:28:05.253\u001b[0m | \u001b[34m\u001b[1mDEBUG   \u001b[0m | \u001b[36msrc.retriever\u001b[0m:\u001b[36m_retrieve\u001b[0m:\u001b[36m96\u001b[0m - \u001b[34m\u001b[1m{'id': 744646, 'distance': 0.6661281585693359, 'entity': {'categoryId': 372003, 'folderId': 587405, 'chunk_id': 3, 'title': 'Seasonals', 'id': 744646}}\u001b[0m\n"
     ]
    },
    {
     "data": {
      "text/html": [
       "<div class=\"rag-answer\">\n",
       "<div class=\"answer-text\">\n",
       "    <p>An economic calendar is an essential tool for investors that helps track the most important events and data in the financial world, such as economic indicators like GDP and interest rates, as well as announcements from organizations like the Federal Reserve (FRB). The economic calendar allows users to clearly understand market movements and prepare for changes by displaying all potentially market-impacting events—including economic data, employment statistics, central bank announcements, government policy shifts, and even tweets from global leaders.\n",
       "\n",
       "In the economic calendar, the first column shows the time of the announcement or report, and the next column displays the country. Next to the country, a small graph indicates the importance of the event, helping users quickly identify key events. Clicking on an event provides a description and options to view a detailed chart, see an overview with related news and information, or add the event to your Google Calendar.\n",
       "\n",
       "The calendar also includes columns for \"Actual\" (the reported value), \"Forecast\" (the expected value), and \"Previous\" (the prior value), allowing users to compare and analyze economic events comprehensively.\n",
       "\n",
       "Additionally, the economic calendar offers filters to focus on specific countries, event importance, time periods (such as upcoming, past, today, tomorrow, or this week), categories (like interest rates or inflation), and time zones. This makes it a powerful analysis tool for monitoring global markets.</p>\n",
       "</div>\n",
       "<div class=\"source-documents\">\n",
       "    <h4>Source Documents:</h4>\n",
       "    \n",
       "            <details>\n",
       "                <summary>Document 706836: Economic calendar: features overview</summary>\n",
       "                <div class=\"document-content\">\n",
       "                    <p><iframe src=\"https://www.youtube.com/embed/UGhvZp28MDg?&amp;wmode=opaque\" frameborder=\"0\" allowfullscreen=\"\" class=\"fr-draggable\" data-dashlane-frameid=\"15130\" data-identifyelement=\"479\"></iframe><br data-identifyelement=\"480\"></p><p>経済指標カレンダーは投資家にとって不可欠なツールとなっており、GDPや金利といった各国の経済指標からFRBなどの組織の発表に至るまで、金融界で最も重要なイベントやデータを追跡するのに役立ちます。市場はしばしば複雑で不確実ですが、経済指標カレンダーのようなツールを使えば、市場の動きを明確に把握してその変化に備えることができます。それでは、TradingViewの経済指標カレンダーを詳しく見ていって、どんな機能が使えるかを確認してみましょう。</p><h4 data-identifyelement=\"481\"><strong>概要</strong></h4><p dir=\"ltr\">経済指標カレンダーでは、その最初の列に発表やレポートが行われた時刻、次の列にそれが行われた国名が表示されます。国名のそばにはそのイベントの重要性を示す小さなグラフが表示され、すぐに注意を向ける必要があるものを素早く判断できるようになっています。そして、経済データ・雇用統計・中央銀行の発表・政府の政策転換、さらにはある世界的なリーダーによるツイートまで、市場に影響が及ぶ可能性のある事柄がすべて表示されるようになっています。</p><div data-img-border=\"\"><img src=\"https://s3.amazonaws.com/cdn.freshdesk.com/data/helpdesk/attachments/production/43423709740/original/NlxOJM2kSIZcJYncx9dMhfjvCVYGWOFKeg.png?1689676575\"></div><p dir=\"ltr\">イベントをクリックすると、そのイベントの説明、および以下3つのオプション項目が表示されます: 「チャートを起動」ボタンを押すと、その指標についての詳細を示したチャートが表示されます。「概要を表示」ボタンを押すと、その指標のチャートやニュース、関連情報などが掲載されたシンボルページが表示されます。また「カレンダーに追加」ボタンを使うと、ご自身のGoogleカレンダーにそのイベントが追加されます。</p><div data-img-border=\"\"><img src=\"https://s3.amazonaws.com/cdn.freshdesk.com/data/helpdesk/attachments/production/43423709733/original/Z4AzrPcWDkL1aqGRS49suPuJ3PVTR3c7fw.png?1689676574\"></div><p dir=\"ltr\">カレンダーには「結果」と「予測」の列があります。最初の列では、その指標において期待された値に対して実際はどうだったかが示され、これを過去の結果の評価に役立てることができます。2番目の列ではその指標の予測値が示され、これを見ながら熟考を重ねて戦略を練るトレーダーも多くいます。最後に、一番右の「前回」列には指標の過去の値が示されます。以上で一つの経済イベントの全容を把握することが可能になっています。</p><div data-img-border=\"\"><img src=\"https://s3.amazonaws.com/cdn.freshdesk.com/data/helpdesk/attachments/production/43423709742/original/W218Q6yDa0Ga7uqQLW9ASK9cVxUVz7vxVw.png?1689676575\"></div><h4 data-identifyelement=\"499\"><strong>フィルター</strong></h4><p>経済指標カレンダーの内容についてご理解いただいたところで、自分が必要とする情報に焦点を絞るにはどうすればよいかを見てみましょう。そのために役立つフィルターがいくつかあります:</p><ul><li>国別: イベントのレポートを受け取る国を1つまたは複数選択できます。ご自身の戦略において、あらゆるかぎりのソースからのデータが必要な場合には、このフィルターを「全世界」に設定することができます。<div data-img-border=\"\"><img src=\"https://s3.amazonaws.com/cdn.freshdesk.com/data/helpdesk/attachments/production/43423709739/original/ZGEl3AHfGt9u0-IfOHA4Wu0f-uXfsT4qaw.png?1689676575\"></div></li><li>重要度大: モードがオンの時、重要度の高いイベントだけが表示されるので、重要データに焦点を絞ることができます。<div data-img-border=\"\"><img src=\"https://s3.amazonaws.com/cdn.freshdesk.com/data/helpdesk/attachments/production/43423709735/original/xYxDUo_YYjb5mzAhLqwVbqMaOy6jI0DZ1w.png?1689676574\"></div><br data-identifyelement=\"513\"><br data-identifyelement=\"514\"><br data-identifyelement=\"515\"></li><li>期間のオプション: ボタン1つで、今後の経済イベントや昨日発表された過去のレポート、そして今日/明日/今週に発表が予定されているイベントに絞った表示を選択することができます。<div data-img-border=\"\"><img src=\"https://s3.amazonaws.com/cdn.freshdesk.com/data/helpdesk/attachments/production/43423709734/original/ZFS6zcrTUNQxRnlLB_sWC3unVmJMGrMHlg.png?1689676574\"></div></li><li>カテゴリーメニュー: ここで「金利」、「インフレ率」、「債券」などのカテゴリーを選択すると、そのカテゴリーに関わる発表だけを表示することができます。特定のカテゴリーに絞った検索を行わない場合は、デフォルトで使用されている「すべてのカテゴリー」を選択してください。<div data-img-border=\"\"><img src=\"https://s3.amazonaws.com/cdn.freshdesk.com/data/helpdesk/attachments/production/43423709737/original/zsW1Fnz4r7Dgq6rnUKvMSKsN8oLzHIj8rA.png?1689676575\"></div></li><li>タイムゾーン: このフィルターを使うと、より正確なイベント検索を行う上で必要なタイムゾーンを選択できます。<div data-img-border=\"\"><img src=\"https://s3.amazonaws.com/cdn.freshdesk.com/data/helpdesk/attachments/production/43423709738/original/OggGXsJqaQrAwZZZJ9Qc0i3bWyt6QbTrqw.png?1689676575\"></div></li></ul><p>フィルターを適切に利用して、そこで見つかったデータを注意深く調査することによって、経済指標カレンダーは世界中の市場を分析する際に強力な分析ツールになります。</p><p>また、TradingViewのツールはウェブサイトでの使用にも最適化されていることをお忘れなく。右上にある「ウィジェットを利用する」ボタンをワンクリックすればカレンダーのコードを取得することができます。これを使ってご自身のウェブサイトへの統合を行えば、そのサイトのユーザーの皆様にも重要な経済指標のレポートをお知らせすることが可能になります:</p><div data-img-border=\"\"><img src=\"https://s3.amazonaws.com/cdn.freshdesk.com/data/helpdesk/attachments/production/43423709741/original/AcR0OXqjh7IgQnETcse79Yfl8J7hFrYIdA.png?1689676575\"></div>\n",
       "                </div>\n",
       "            </details>\n",
       "            \n",
       "            <details>\n",
       "                <summary>Document 758122: Why are some dates in the calendar disabled?</summary>\n",
       "                <div class=\"document-content\">\n",
       "                    <p data-end=\"195\" data-start=\"82\">Some dates in the calendar are unavailable for selection because markets are closed on those days. These include:</p><ul data-end=\"319\" data-start=\"197\"><li data-end=\"237\" data-start=\"197\">weekends (e.g., Saturday and Sunday)</li><li data-end=\"319\" data-start=\"238\">official public holidays when no trading occurs and yield data is not updated</li></ul><p data-end=\"419\" data-is-last-node=\"\" data-is-only-node=\"\" data-start=\"321\">Such dates are disabled in the calendar to ensure only relevant and accurate information is shown.</p>\n",
       "                </div>\n",
       "            </details>\n",
       "            \n",
       "            <details>\n",
       "                <summary>Document 727969: Inflation protection</summary>\n",
       "                <div class=\"document-content\">\n",
       "                    <p dir=\"ltr\">Inflation protection refers to a feature of certain corporate bonds that adjusts the bond's interest payments or principal value in response to changes in the inflation rate. Bonds with inflation protection typically have their coupon payments or principal amounts linked to an inflation index, such as the Consumer Price Index (CPI).&nbsp;</p><p dir=\"ltr\">This adjustment helps to preserve the purchasing power of the bondholder's investment in times of rising inflation. Bonds with inflation protection provide a hedge against the erosion of real returns caused by inflation.</p><p>By adjusting the bond's payments or principal based on changes in inflation, these bonds help maintain the purchasing power of the investor's funds. This can be particularly valuable during periods of high inflation when traditional fixed-income investments may see their real returns diminished.</p><h4 dir=\"ltr\">Coupon uplift</h4><p dir=\"ltr\">Coupon uplift refers to a feature of certain corporate bonds where the coupon rate is adjusted periodically based on changes in a specified benchmark, such as the inflation rate or a reference interest rate. The coupon uplift mechanism allows the bond's interest payments to increase or decrease in response to changes in the benchmark, providing investors with a potential hedge against inflation or interest rate fluctuations. This adjustment ensures that the bond's coupon payments remain competitive and reflective of prevailing market conditions.</p><h4 dir=\"ltr\">Principal uplift</h4><p dir=\"ltr\">Principal uplift, on the other hand, involves adjustments to the principal value of a bond rather than its coupon payments. Bonds with principal uplift provisions have their face value or redemption amount adjusted periodically based on changes in a specified benchmark, such as inflation or a reference index. The principal uplift feature helps protect the bondholder's investment against the erosion of purchasing power caused by inflation, ensuring that the bond's value keeps pace with changes in the economy.</p><h4 dir=\"ltr\">Non-protected</h4><p dir=\"ltr\">While non-protected bonds do not offer the same inflation protection as bonds with coupon uplift or principal uplift features, they may still appeal to investors seeking stable and predictable income streams. These bonds typically offer higher yields compared to inflation-protected bonds, reflecting the absence of inflation-adjustment mechanisms.</p>\n",
       "                </div>\n",
       "            </details>\n",
       "            \n",
       "            <details>\n",
       "                <summary>Document 745807: Why do session-based indicators occasionally extend daily sessions on US futures?</summary>\n",
       "                <div class=\"document-content\">\n",
       "                    <p dir=\"ltr\">Some indicators on TradingView calculate on a specific time period (<em>session</em>) and reset at the end of each period. For example, the<a href=\"https://www.tradingview.com/support/solutions/43000703072-session-volume-profile/\">&nbsp;</a><a href=\"https://www.tradingview.com/support/solutions/43000703072-session-volume-profile/\">Session Volume Profile</a> and<a href=\"https://www.tradingview.com/support/solutions/43000719900-session-time-price-opportunity-stpo-indicator/\">&nbsp;</a><a href=\"https://www.tradingview.com/support/solutions/43000719900-session-time-price-opportunity-stpo-indicator/\">Session Time Price Opportunity</a> indicators accumulate the data within a <em>daily trading session</em> (a trading day from its market open to close) to produce a session analysis, which then resets once a new daily session starts. Other indicators like<a href=\"https://www.tradingview.com/support/solutions/43000521824-pivot-points-standard/\">&nbsp;</a><a href=\"https://www.tradingview.com/support/solutions/43000521824-pivot-points-standard/\" target=\"_self\">Pivot Points Standard</a>,<a href=\"https://www.tradingview.com/support/solutions/43000502018-volume-weighted-average-price-vwap/\">&nbsp;</a><a href=\"https://www.tradingview.com/support/solutions/43000502018-volume-weighted-average-price-vwap/\">Volume Weighted Average Price</a>, and periodic<a href=\"https://www.tradingview.com/support/solutions/43000713306-time-price-opportunity-tpo-indicator/\">&nbsp;</a><a href=\"https://www.tradingview.com/support/solutions/43000713306-time-price-opportunity-tpo-indicator/\">Time Price Opportunity</a> allow users to define a custom period of days, weeks, or months for the indicator to analyze, starting from a 1 day session or longer.</p><p dir=\"ltr\">Occasionally, these indicators can extend daily sessions on intraday charts to include several intraday trading sessions in one long \"daily\" session. For example, in the screenshot below, the <a href=\"https://www.tradingview.com/support/solutions/43000703072-session-volume-profile/\">Session Volume Profile</a> indicator extends a daily session that starts on January 19 until January 21, even though there's a session break in between on January 20. This behavior is <strong>not</strong> a bug in the indicator, but rather an <em>intentional</em> adjustment by the exchange that sets the instrument's trading sessions schedule.</p><p dir=\"ltr\">&nbsp;</p><div data-img-border=\"\"><img src=\"https://s3.amazonaws.com/cdn.freshdesk.com/data/helpdesk/attachments/production/43542727489/original/E8hIjPdmoUNWC_5SmpOgyaiyfo_P-dsFPA.png?1740423414\"></div><h4 dir=\"ltr\">Why this happens</h4><p dir=\"ltr\">First, it's important to distinguish between a <em>trading session</em>, <em>trading day</em>, and <em>calendar day</em>. For instance, for symbols with overnight sessions, the \"daily\" trading session spans two calendar days, and starts on the calendar day <em>before</em> its associated trading day. Therefore, a daily session for the \"ES1!\" symbol that belongs to a \"Monday\" trading day starts on Sunday at 17:00 CT (Central Time) and ends on Monday at 16:00 CT.</p><p dir=\"ltr\">Session-based indicators reset their calculations once per <em>trading day</em>, which can often correspond to once per calendar day, given the daily timeframe. However, occasionally, an exchange might alter the length of an instrument's daily trading session by reducing or extending it, which can vary the number of calendar days within the session. Consequently, session-based indicators might not reset their calculations daily despite the calendar days progressing.</p><p dir=\"ltr\">For US-based futures under the<a href=\"https://www.cmegroup.com/markets/products.html\">&nbsp;</a><a href=\"https://www.cmegroup.com/markets/products.html\">CME Group</a> (CBOT, CME, NYMEX, and COMEX exchanges), the exchanges observe US federal holidays, shortening the trading sessions on those days. The CME Group lists their annual holiday trading hours<a href=\"https://www.cmegroup.com/trading-hours.html\">&nbsp;</a><a href=\"https://www.cmegroup.com/trading-hours.html\">here</a>, listing the different session changes for each holiday and commodity. The exchanges often also combine the shortened sessions into one extended trading day, which results in a single \"daily\" session that can include intraday trades from up to three calendar days.</p><p dir=\"ltr\">For example, the<a href=\"https://www.cmegroup.com/trading-hours.html#tradeDate=2025-01-20\">&nbsp;</a><a href=\"https://www.cmegroup.com/trading-hours.html#tradeDate=2025-01-20\">CME Group holiday calendar</a> shows that the exchange observes Dr. Martin Luther King, Jr. Day with shortened trading hours on Monday, January 20, 2025. For equity futures, the exchange announced that the intraday trades from Sunday, January 19, at 17:00 CT, to Tuesday, January 21, at 16:00 CT, will all belong to an extended trading session for Tuesday:</p><div data-img-border=\"\"><img src=\"https://s3.amazonaws.com/cdn.freshdesk.com/data/helpdesk/attachments/production/43542728312/original/q8zX7QSNcEl1u887DqNKWPJk-d_s-4yXEg.png?1740423681\"></div><p dir=\"ltr\">We can see the modified holiday session when we add the<a href=\"https://www.tradingview.com/support/solutions/43000703072-session-volume-profile/\">&nbsp;</a><a href=\"https://www.tradingview.com/support/solutions/43000703072-session-volume-profile/\">Session Volume Profile</a> indicator on the \"ES1!\" symbol's intraday chart. Monday's trading session (typically Sun 17:00–Mon 16:00 CT) is now shortened for the holiday, ending at 11:00 CT, and is combined with Tuesday's trading session (Mon 17:00–Tue 16:00 CT) as one long \"daily\" session. Although the indicator appears as though it misses a session reset here, it is in fact correctly representing the trading session dates set by the exchange:</p><div data-img-border=\"\"><img src=\"https://s3.amazonaws.com/cdn.freshdesk.com/data/helpdesk/attachments/production/43542728482/original/5IbZppG8qTumT92hJMUXPGTCmLKUf1nO5w.png?1740423738\"></div><p dir=\"ltr\">We can also verify that the sessions defined by the indicator match the daily data coming from the exchange by looking at the symbol's daily chart. The daily bar for Friday, January 17 (the session before Sunday) is followed immediately by the daily bar for Tuesday, January 21, which covers all the intraday price activity from Sunday to Tuesday (see our intraday labels all appearing on this candle):</p><div data-img-border=\"\"><img src=\"https://s3.amazonaws.com/cdn.freshdesk.com/data/helpdesk/attachments/production/43542728698/original/yDuDhW-GeBvmAFU8WzdCl12ECr79YbNT0w.png?1740423802\"></div><p dir=\"ltr\">Bearing in mind the distinction between trading days and calendar days, it's easier to see that when a session-based indicator combines multiple calendar days into a single daily trading session, for example on a US holiday, it's not an error in the indicator. Rather, it's an intended adjustment from the exchange assigning the trading dates for its \"daily\" data. Our session-based indicators simply provide the daily session data as the exchanges provide it.</p><p dir=\"ltr\">An additional consideration is that a shortened trading session often has significantly less trading volume than a typical daily session, so using the incomplete session as a separate \"daily\" session would inaccurately skew the interpreted daily volume trends. Instead, having an extended session maintains the session volume reasonably within the typical daily range.</p><p dir=\"ltr\">If users have access to a session-based indicator's source code, they can use a \"1440\" timeframe in the script to express a fixed 24-hour session (1440 minutes) instead of using a daily \"1D\" session. The \"1440\" timeframe builds its sessions from the instrument's intraday data, rather than relying on the daily sessions defined by the exchange. Therefore, it divides the data at fixed intervals independent of the exchange's session changes and resets on each calendar day.</p>\n",
       "                </div>\n",
       "            </details>\n",
       "            \n",
       "            <details>\n",
       "                <summary>Document 744646: Seasonals</summary>\n",
       "                <div class=\"document-content\">\n",
       "                    <p dir=\"ltr\"><iframe src=\"https://www.youtube.com/embed/h-Lxlbkw7Nk??si=q3GZ7RADtH1wXbZc&amp;wmode=opaque\" frameborder=\"0\" allowfullscreen=\"\" class=\"fr-draggable\"></iframe></p><p dir=\"ltr\">Seasonals are charts of price changes observed over the same period (season) in different years. They are built for each year and compared with similar charts for other years in the same coordinate space. This tool allows you to visualize seasonal price trends and evaluate the regularity of particular dynamics, identifying patterns expected at a specific time of the year.</p><p dir=\"ltr\">TradingView's seasonality charts are annual, which means that one chart shows the price dynamics of an instrument for the entire year. Each year in a given range corresponds to its line on the chart.</p><p dir=\"ltr\">You can view seasonality charts for the last three years on the “Overview” tab of the symbol page and the watchlist’s symbol info section that you can find in the right panel.</p><div data-img-border=\"\"><img src=\"https://s3.amazonaws.com/cdn.freshdesk.com/data/helpdesk/attachments/production/43539332649/original/g88F0vLoiJXeFNYBEySc_KQqGnNjAxSE8Q.png?1738854888\"></div><p dir=\"ltr\">These charts are for reference only and cannot be changed. To open standalone \"Seasonals\" page with the ability to customize the chart, click the “More seasonals” button in the widget or go to the <a href=\"https://www.tradingview.com/symbols/USOIL/seasonals/?exchange=TVC\">“Seasonals” tab of the symbol page</a>.<br></p><div data-img-border=\"\"><img src=\"https://s3.amazonaws.com/cdn.freshdesk.com/data/helpdesk/attachments/production/43539332743/original/nC-gQDAG21_qLCOWU6Sp7HLAajr1zIgE9g.png?1738854911\"></div><p dir=\"ltr\">The \"Seasonals\" page provides access to the instrument's full data history. You can select the desired period of available history for analysis.</p><p dir=\"ltr\">To set the start and end years for which the price charts will be plotted, pull the extreme points of the slider above the chart. You can also move the slider forward or backward along the time axis by clicking in the middle of the slider and dragging it. In this case, the number of years it covers will remain unchanged, and the range will be moved to the specified location of the time scale.<br></p><div data-img-border=\"\"><img src=\"https://s3.amazonaws.com/cdn.freshdesk.com/data/helpdesk/attachments/production/43539333213/original/K6VD2tLx6cNBfmYY1dRj0HSotONzDB8lVg.gif?1738855001\"></div><p dir=\"ltr\">Click the \"Percentage\" button to change the price axis mode. When the button is active, the price change is displayed in percentages from the beginning of the year. When the button is inactive, the Percentage mode is disabled and the price change is presented in absolute values.</p><div data-img-border=\"\"><img src=\"https://s3.amazonaws.com/cdn.freshdesk.com/data/helpdesk/attachments/production/43539333762/original/gy5NwuJbqFdaCy7kOujHPUE0OLGqg0nHDw.png?1738855138\"></div><p dir=\"ltr\">Once you have finished your analysis, you can save an image of the resulting chart or share a snapshot of it. To do this, click the camera icon and select the appropriate option.</p><div data-img-border=\"\"><img src=\"https://s3.amazonaws.com/cdn.freshdesk.com/data/helpdesk/attachments/production/43539334076/original/qe-zRDO8EhahRyb5BdEi3VNh4nCZiuXT9w.png?1738855202\"></div>\n",
       "                </div>\n",
       "            </details>\n",
       "            \n",
       "</div>\n",
       "</div>"
      ],
      "text/plain": [
       "<IPython.core.display.HTML object>"
      ]
     },
     "metadata": {},
     "output_type": "display_data"
    }
   ],
   "source": [
    "answer = rag.answer(\"what is economic calendar?\")\n",
    "display(HTML(answer))"
   ]
  },
  {
   "cell_type": "code",
   "execution_count": null,
   "id": "31de1037-da64-4a4d-8cc8-1534e3525e12",
   "metadata": {},
   "outputs": [],
   "source": []
  }
 ],
 "metadata": {
  "kernelspec": {
   "display_name": "Python 3 (ipykernel)",
   "language": "python",
   "name": "python3"
  },
  "language_info": {
   "codemirror_mode": {
    "name": "ipython",
    "version": 3
   },
   "file_extension": ".py",
   "mimetype": "text/x-python",
   "name": "python",
   "nbconvert_exporter": "python",
   "pygments_lexer": "ipython3",
   "version": "3.12.4"
  }
 },
 "nbformat": 4,
 "nbformat_minor": 5
}
